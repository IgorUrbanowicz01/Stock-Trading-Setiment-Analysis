{
 "cells": [
  {
   "metadata": {},
   "cell_type": "markdown",
   "source": "# Sentiment Analysis ",
   "id": "71f1c6f1f3fc671f"
  },
  {
   "metadata": {
    "ExecuteTime": {
     "end_time": "2024-06-27T11:12:28.000466Z",
     "start_time": "2024-06-27T11:12:27.995547Z"
    }
   },
   "cell_type": "code",
   "source": [
    "import pandas as pd\n",
    "import numpy as np\n",
    "import matplotlib.pyplot as plt\n",
    "import yfinance as yf"
   ],
   "id": "793774dc4fc6a55c",
   "outputs": [],
   "execution_count": 6
  },
  {
   "metadata": {
    "ExecuteTime": {
     "end_time": "2024-06-27T11:12:29.690963Z",
     "start_time": "2024-06-27T11:12:28.057884Z"
    }
   },
   "cell_type": "code",
   "source": [
    "hist_dict = {}\n",
    "stoks = ['MSFT','AAPL', 'GOOG', 'NVDA', 'TSLA']\n",
    "for s in stoks:\n",
    "    tkr = yf.Ticker(s)\n",
    "    history = tkr.history(period='5y')\n",
    "    hist_dict[s] = history"
   ],
   "id": "d39b79fb5df232a9",
   "outputs": [],
   "execution_count": 7
  },
  {
   "metadata": {
    "ExecuteTime": {
     "end_time": "2024-06-27T11:12:29.695962Z",
     "start_time": "2024-06-27T11:12:29.693034Z"
    }
   },
   "cell_type": "code",
   "source": "",
   "id": "a383c6e2b0500df2",
   "outputs": [],
   "execution_count": 7
  },
  {
   "metadata": {
    "ExecuteTime": {
     "end_time": "2024-06-27T11:12:29.700827Z",
     "start_time": "2024-06-27T11:12:29.698044Z"
    }
   },
   "cell_type": "code",
   "source": "",
   "id": "50c47e6dbf8726b8",
   "outputs": [],
   "execution_count": 7
  }
 ],
 "metadata": {
  "kernelspec": {
   "display_name": "Python 3",
   "language": "python",
   "name": "python3"
  },
  "language_info": {
   "codemirror_mode": {
    "name": "ipython",
    "version": 2
   },
   "file_extension": ".py",
   "mimetype": "text/x-python",
   "name": "python",
   "nbconvert_exporter": "python",
   "pygments_lexer": "ipython2",
   "version": "2.7.6"
  }
 },
 "nbformat": 4,
 "nbformat_minor": 5
}
