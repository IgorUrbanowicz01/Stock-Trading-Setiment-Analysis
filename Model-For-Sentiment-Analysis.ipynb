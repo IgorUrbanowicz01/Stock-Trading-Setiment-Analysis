{
 "cells": [
  {
   "metadata": {},
   "cell_type": "markdown",
   "source": "# Sentiment Analysis ",
   "id": "71f1c6f1f3fc671f"
  },
  {
   "metadata": {
    "ExecuteTime": {
     "end_time": "2024-06-27T14:02:06.161301Z",
     "start_time": "2024-06-27T14:02:05.901338Z"
    }
   },
   "cell_type": "code",
   "source": [
    "%load_ext autoreload\n",
    "%autoreload 2"
   ],
   "id": "141b940e5367d242",
   "outputs": [
    {
     "name": "stdout",
     "output_type": "stream",
     "text": [
      "The autoreload extension is already loaded. To reload it, use:\n",
      "  %reload_ext autoreload\n"
     ]
    }
   ],
   "execution_count": 92
  },
  {
   "metadata": {
    "ExecuteTime": {
     "end_time": "2024-06-27T14:02:06.367414Z",
     "start_time": "2024-06-27T14:02:06.163822Z"
    }
   },
   "cell_type": "code",
   "source": "  %reload_ext autoreload",
   "id": "c05a632cbcdaa4c",
   "outputs": [],
   "execution_count": 93
  },
  {
   "metadata": {
    "ExecuteTime": {
     "end_time": "2024-06-27T14:02:06.659969Z",
     "start_time": "2024-06-27T14:02:06.368879Z"
    }
   },
   "cell_type": "code",
   "source": [
    "import pandas as pd\n",
    "import numpy as np\n",
    "import matplotlib.pyplot as plt\n",
    "import yfinance as yf\n",
    "from plot import create_plot\n",
    "import snscrape.modules.twitter as st\n",
    "from tqdm.notebook import  tqdm"
   ],
   "id": "793774dc4fc6a55c",
   "outputs": [],
   "execution_count": 94
  },
  {
   "metadata": {
    "ExecuteTime": {
     "end_time": "2024-06-27T14:02:08.084660Z",
     "start_time": "2024-06-27T14:02:06.662172Z"
    }
   },
   "cell_type": "code",
   "source": [
    "hist_dict = {}\n",
    "stoks = ['MSFT','AAPL', 'GOOG', 'NVDA', 'TSLA']\n",
    "for s in stoks:\n",
    "    tkr = yf.Ticker(s)\n",
    "    history = tkr.history(period='5y')\n",
    "    hist_dict[s] = history"
   ],
   "id": "d39b79fb5df232a9",
   "outputs": [],
   "execution_count": 95
  },
  {
   "metadata": {
    "ExecuteTime": {
     "end_time": "2024-06-27T14:02:08.361912Z",
     "start_time": "2024-06-27T14:02:08.086835Z"
    }
   },
   "cell_type": "code",
   "source": [
    "app = create_plot(hist_dict)\n",
    "app.run()"
   ],
   "id": "a383c6e2b0500df2",
   "outputs": [
    {
     "data": {
      "text/plain": [
       "<IPython.lib.display.IFrame at 0x798c21e6f410>"
      ],
      "text/html": [
       "\n",
       "        <iframe\n",
       "            width=\"100%\"\n",
       "            height=\"650\"\n",
       "            src=\"http://127.0.0.1:8050/\"\n",
       "            frameborder=\"0\"\n",
       "            allowfullscreen\n",
       "            \n",
       "        ></iframe>\n",
       "        "
      ]
     },
     "metadata": {},
     "output_type": "display_data"
    }
   ],
   "execution_count": 96
  },
  {
   "metadata": {},
   "cell_type": "markdown",
   "source": "# Sentiment Analysis",
   "id": "74fdf6d9d2aea26d"
  },
  {
   "metadata": {
    "ExecuteTime": {
     "end_time": "2024-06-27T14:13:51.297438Z",
     "start_time": "2024-06-27T14:13:43.785069Z"
    }
   },
   "cell_type": "code",
   "source": [
    "!pip install --upgrade certifi\n",
    "!pip install --upgrade pip"
   ],
   "id": "efd363f25b09765c",
   "outputs": [
    {
     "name": "stdout",
     "output_type": "stream",
     "text": [
      "Requirement already satisfied: certifi in ./.venv/lib/python3.11/site-packages (2024.6.2)\r\n",
      "\r\n",
      "\u001B[1m[\u001B[0m\u001B[34;49mnotice\u001B[0m\u001B[1;39;49m]\u001B[0m\u001B[39;49m A new release of pip is available: \u001B[0m\u001B[31;49m23.2.1\u001B[0m\u001B[39;49m -> \u001B[0m\u001B[32;49m24.1.1\u001B[0m\r\n",
      "\u001B[1m[\u001B[0m\u001B[34;49mnotice\u001B[0m\u001B[1;39;49m]\u001B[0m\u001B[39;49m To update, run: \u001B[0m\u001B[32;49mpip install --upgrade pip\u001B[0m\r\n",
      "Requirement already satisfied: pip in ./.venv/lib/python3.11/site-packages (23.2.1)\r\n",
      "Collecting pip\r\n",
      "  Obtaining dependency information for pip from https://files.pythonhosted.org/packages/f4/ab/e3c039b5ddba9335bd8f82d599eb310de1d2a2db0411b8d804d507405c74/pip-24.1.1-py3-none-any.whl.metadata\r\n",
      "  Downloading pip-24.1.1-py3-none-any.whl.metadata (3.6 kB)\r\n",
      "Downloading pip-24.1.1-py3-none-any.whl (1.8 MB)\r\n",
      "\u001B[2K   \u001B[90m━━━━━━━━━━━━━━━━━━━━━━━━━━━━━━━━━━━━━━━━\u001B[0m \u001B[32m1.8/1.8 MB\u001B[0m \u001B[31m3.6 MB/s\u001B[0m eta \u001B[36m0:00:00\u001B[0m00:01\u001B[0m00:01\u001B[0m0m\r\n",
      "\u001B[?25hInstalling collected packages: pip\r\n",
      "  Attempting uninstall: pip\r\n",
      "    Found existing installation: pip 23.2.1\r\n",
      "    Uninstalling pip-23.2.1:\r\n",
      "      Successfully uninstalled pip-23.2.1\r\n",
      "Successfully installed pip-24.1.1\r\n"
     ]
    }
   ],
   "execution_count": 103
  },
  {
   "metadata": {
    "ExecuteTime": {
     "end_time": "2024-06-27T14:14:05.568198Z",
     "start_time": "2024-06-27T14:13:57.602103Z"
    }
   },
   "cell_type": "code",
   "source": [
    "#just for apple\n",
    "\n",
    "\n",
    "tweets_list_ = []\n",
    "\n",
    "for i, tweet in tqdm(\n",
    "    enumerate(\n",
    "        st.TwitterSearchScraper(\n",
    "        f' $AAPL'\n",
    "        ).get_items()\n",
    "    ),\n",
    "total=1000,\n",
    "):\n",
    "    tweets_list_.append(\n",
    "        [tweet.date, tweet.id, tweet.content, tweet.username])\n",
    "Xdf = pd.DataFrame(data=tweets_list_, columns=['Date', 'ID', 'Content', 'Username'])"
   ],
   "id": "9ae158c4c2bc870a",
   "outputs": [
    {
     "data": {
      "text/plain": [
       "  0%|          | 0/1000 [00:00<?, ?it/s]"
      ],
      "application/vnd.jupyter.widget-view+json": {
       "version_major": 2,
       "version_minor": 0,
       "model_id": "fca28b815eb84ce98ed992c7512bec9d"
      }
     },
     "metadata": {},
     "output_type": "display_data"
    },
    {
     "name": "stderr",
     "output_type": "stream",
     "text": [
      "Error retrieving https://twitter.com/search?f=live&lang=en&q=+%24AAPL&src=spelling_expansion_revert_click: SSLError(MaxRetryError(\"HTTPSConnectionPool(host='twitter.com', port=443): Max retries exceeded with url: /search?f=live&lang=en&q=+%24AAPL&src=spelling_expansion_revert_click (Caused by SSLError(SSLCertVerificationError(1, '[SSL: CERTIFICATE_VERIFY_FAILED] certificate verify failed: unable to get local issuer certificate (_ssl.c:1006)')))\"))\n",
      "4 requests to https://twitter.com/search?f=live&lang=en&q=+%24AAPL&src=spelling_expansion_revert_click failed, giving up.\n",
      "Errors: SSLError(MaxRetryError(\"HTTPSConnectionPool(host='twitter.com', port=443): Max retries exceeded with url: /search?f=live&lang=en&q=+%24AAPL&src=spelling_expansion_revert_click (Caused by SSLError(SSLCertVerificationError(1, '[SSL: CERTIFICATE_VERIFY_FAILED] certificate verify failed: unable to get local issuer certificate (_ssl.c:1006)')))\")), SSLError(MaxRetryError(\"HTTPSConnectionPool(host='twitter.com', port=443): Max retries exceeded with url: /search?f=live&lang=en&q=+%24AAPL&src=spelling_expansion_revert_click (Caused by SSLError(SSLCertVerificationError(1, '[SSL: CERTIFICATE_VERIFY_FAILED] certificate verify failed: unable to get local issuer certificate (_ssl.c:1006)')))\")), SSLError(MaxRetryError(\"HTTPSConnectionPool(host='twitter.com', port=443): Max retries exceeded with url: /search?f=live&lang=en&q=+%24AAPL&src=spelling_expansion_revert_click (Caused by SSLError(SSLCertVerificationError(1, '[SSL: CERTIFICATE_VERIFY_FAILED] certificate verify failed: unable to get local issuer certificate (_ssl.c:1006)')))\")), SSLError(MaxRetryError(\"HTTPSConnectionPool(host='twitter.com', port=443): Max retries exceeded with url: /search?f=live&lang=en&q=+%24AAPL&src=spelling_expansion_revert_click (Caused by SSLError(SSLCertVerificationError(1, '[SSL: CERTIFICATE_VERIFY_FAILED] certificate verify failed: unable to get local issuer certificate (_ssl.c:1006)')))\"))\n"
     ]
    },
    {
     "ename": "ScraperException",
     "evalue": "4 requests to https://twitter.com/search?f=live&lang=en&q=+%24AAPL&src=spelling_expansion_revert_click failed, giving up.",
     "output_type": "error",
     "traceback": [
      "\u001B[0;31m---------------------------------------------------------------------------\u001B[0m",
      "\u001B[0;31mScraperException\u001B[0m                          Traceback (most recent call last)",
      "Cell \u001B[0;32mIn[104], line 6\u001B[0m\n\u001B[1;32m      1\u001B[0m \u001B[38;5;66;03m#just for apple\u001B[39;00m\n\u001B[1;32m      4\u001B[0m tweets_list_ \u001B[38;5;241m=\u001B[39m []\n\u001B[0;32m----> 6\u001B[0m \u001B[38;5;28;43;01mfor\u001B[39;49;00m\u001B[43m \u001B[49m\u001B[43mi\u001B[49m\u001B[43m,\u001B[49m\u001B[43m \u001B[49m\u001B[43mtweet\u001B[49m\u001B[43m \u001B[49m\u001B[38;5;129;43;01min\u001B[39;49;00m\u001B[43m \u001B[49m\u001B[43mtqdm\u001B[49m\u001B[43m(\u001B[49m\n\u001B[1;32m      7\u001B[0m \u001B[43m    \u001B[49m\u001B[38;5;28;43menumerate\u001B[39;49m\u001B[43m(\u001B[49m\n\u001B[1;32m      8\u001B[0m \u001B[43m        \u001B[49m\u001B[43mst\u001B[49m\u001B[38;5;241;43m.\u001B[39;49m\u001B[43mTwitterSearchScraper\u001B[49m\u001B[43m(\u001B[49m\n\u001B[1;32m      9\u001B[0m \u001B[43m        \u001B[49m\u001B[38;5;124;43mf\u001B[39;49m\u001B[38;5;124;43m'\u001B[39;49m\u001B[38;5;124;43m $AAPL\u001B[39;49m\u001B[38;5;124;43m'\u001B[39;49m\n\u001B[1;32m     10\u001B[0m \u001B[43m        \u001B[49m\u001B[43m)\u001B[49m\u001B[38;5;241;43m.\u001B[39;49m\u001B[43mget_items\u001B[49m\u001B[43m(\u001B[49m\u001B[43m)\u001B[49m\n\u001B[1;32m     11\u001B[0m \u001B[43m    \u001B[49m\u001B[43m)\u001B[49m\u001B[43m,\u001B[49m\n\u001B[1;32m     12\u001B[0m \u001B[43mtotal\u001B[49m\u001B[38;5;241;43m=\u001B[39;49m\u001B[38;5;241;43m1000\u001B[39;49m\u001B[43m,\u001B[49m\n\u001B[1;32m     13\u001B[0m \u001B[43m)\u001B[49m\u001B[43m:\u001B[49m\n\u001B[1;32m     14\u001B[0m \u001B[43m    \u001B[49m\u001B[43mtweets_list_\u001B[49m\u001B[38;5;241;43m.\u001B[39;49m\u001B[43mappend\u001B[49m\u001B[43m(\u001B[49m\n\u001B[1;32m     15\u001B[0m \u001B[43m        \u001B[49m\u001B[43m[\u001B[49m\u001B[43mtweet\u001B[49m\u001B[38;5;241;43m.\u001B[39;49m\u001B[43mdate\u001B[49m\u001B[43m,\u001B[49m\u001B[43m \u001B[49m\u001B[43mtweet\u001B[49m\u001B[38;5;241;43m.\u001B[39;49m\u001B[43mid\u001B[49m\u001B[43m,\u001B[49m\u001B[43m \u001B[49m\u001B[43mtweet\u001B[49m\u001B[38;5;241;43m.\u001B[39;49m\u001B[43mcontent\u001B[49m\u001B[43m,\u001B[49m\u001B[43m \u001B[49m\u001B[43mtweet\u001B[49m\u001B[38;5;241;43m.\u001B[39;49m\u001B[43musername\u001B[49m\u001B[43m]\u001B[49m\u001B[43m)\u001B[49m\n\u001B[1;32m     16\u001B[0m Xdf \u001B[38;5;241m=\u001B[39m pd\u001B[38;5;241m.\u001B[39mDataFrame(data\u001B[38;5;241m=\u001B[39mtweets_list_, columns\u001B[38;5;241m=\u001B[39m[\u001B[38;5;124m'\u001B[39m\u001B[38;5;124mDate\u001B[39m\u001B[38;5;124m'\u001B[39m, \u001B[38;5;124m'\u001B[39m\u001B[38;5;124mID\u001B[39m\u001B[38;5;124m'\u001B[39m, \u001B[38;5;124m'\u001B[39m\u001B[38;5;124mContent\u001B[39m\u001B[38;5;124m'\u001B[39m, \u001B[38;5;124m'\u001B[39m\u001B[38;5;124mUsername\u001B[39m\u001B[38;5;124m'\u001B[39m])\n",
      "File \u001B[0;32m~/PycharmProjects/Stock Trading and Setiment Analysis/.venv/lib/python3.11/site-packages/tqdm/notebook.py:250\u001B[0m, in \u001B[0;36mtqdm_notebook.__iter__\u001B[0;34m(self)\u001B[0m\n\u001B[1;32m    248\u001B[0m \u001B[38;5;28;01mtry\u001B[39;00m:\n\u001B[1;32m    249\u001B[0m     it \u001B[38;5;241m=\u001B[39m \u001B[38;5;28msuper\u001B[39m()\u001B[38;5;241m.\u001B[39m\u001B[38;5;21m__iter__\u001B[39m()\n\u001B[0;32m--> 250\u001B[0m \u001B[43m    \u001B[49m\u001B[38;5;28;43;01mfor\u001B[39;49;00m\u001B[43m \u001B[49m\u001B[43mobj\u001B[49m\u001B[43m \u001B[49m\u001B[38;5;129;43;01min\u001B[39;49;00m\u001B[43m \u001B[49m\u001B[43mit\u001B[49m\u001B[43m:\u001B[49m\n\u001B[1;32m    251\u001B[0m \u001B[43m        \u001B[49m\u001B[38;5;66;43;03m# return super(tqdm...) will not catch exception\u001B[39;49;00m\n\u001B[1;32m    252\u001B[0m \u001B[43m        \u001B[49m\u001B[38;5;28;43;01myield\u001B[39;49;00m\u001B[43m \u001B[49m\u001B[43mobj\u001B[49m\n\u001B[1;32m    253\u001B[0m \u001B[38;5;66;03m# NB: except ... [ as ...] breaks IPython async KeyboardInterrupt\u001B[39;00m\n",
      "File \u001B[0;32m~/PycharmProjects/Stock Trading and Setiment Analysis/.venv/lib/python3.11/site-packages/tqdm/std.py:1181\u001B[0m, in \u001B[0;36mtqdm.__iter__\u001B[0;34m(self)\u001B[0m\n\u001B[1;32m   1178\u001B[0m time \u001B[38;5;241m=\u001B[39m \u001B[38;5;28mself\u001B[39m\u001B[38;5;241m.\u001B[39m_time\n\u001B[1;32m   1180\u001B[0m \u001B[38;5;28;01mtry\u001B[39;00m:\n\u001B[0;32m-> 1181\u001B[0m \u001B[43m    \u001B[49m\u001B[38;5;28;43;01mfor\u001B[39;49;00m\u001B[43m \u001B[49m\u001B[43mobj\u001B[49m\u001B[43m \u001B[49m\u001B[38;5;129;43;01min\u001B[39;49;00m\u001B[43m \u001B[49m\u001B[43miterable\u001B[49m\u001B[43m:\u001B[49m\n\u001B[1;32m   1182\u001B[0m \u001B[43m        \u001B[49m\u001B[38;5;28;43;01myield\u001B[39;49;00m\u001B[43m \u001B[49m\u001B[43mobj\u001B[49m\n\u001B[1;32m   1183\u001B[0m \u001B[43m        \u001B[49m\u001B[38;5;66;43;03m# Update and possibly print the progressbar.\u001B[39;49;00m\n\u001B[1;32m   1184\u001B[0m \u001B[43m        \u001B[49m\u001B[38;5;66;43;03m# Note: does not call self.update(1) for speed optimisation.\u001B[39;49;00m\n",
      "File \u001B[0;32m~/PycharmProjects/Stock Trading and Setiment Analysis/.venv/lib/python3.11/site-packages/snscrape/modules/twitter.py:1763\u001B[0m, in \u001B[0;36mTwitterSearchScraper.get_items\u001B[0;34m(self)\u001B[0m\n\u001B[1;32m   1760\u001B[0m params \u001B[38;5;241m=\u001B[39m {\u001B[38;5;124m'\u001B[39m\u001B[38;5;124mvariables\u001B[39m\u001B[38;5;124m'\u001B[39m: variables, \u001B[38;5;124m'\u001B[39m\u001B[38;5;124mfeatures\u001B[39m\u001B[38;5;124m'\u001B[39m: features}\n\u001B[1;32m   1761\u001B[0m paginationParams \u001B[38;5;241m=\u001B[39m {\u001B[38;5;124m'\u001B[39m\u001B[38;5;124mvariables\u001B[39m\u001B[38;5;124m'\u001B[39m: paginationVariables, \u001B[38;5;124m'\u001B[39m\u001B[38;5;124mfeatures\u001B[39m\u001B[38;5;124m'\u001B[39m: features}\n\u001B[0;32m-> 1763\u001B[0m \u001B[43m\u001B[49m\u001B[38;5;28;43;01mfor\u001B[39;49;00m\u001B[43m \u001B[49m\u001B[43mobj\u001B[49m\u001B[43m \u001B[49m\u001B[38;5;129;43;01min\u001B[39;49;00m\u001B[43m \u001B[49m\u001B[38;5;28;43mself\u001B[39;49m\u001B[38;5;241;43m.\u001B[39;49m\u001B[43m_iter_api_data\u001B[49m\u001B[43m(\u001B[49m\u001B[38;5;124;43m'\u001B[39;49m\u001B[38;5;124;43mhttps://twitter.com/i/api/graphql/7jT5GT59P8IFjgxwqnEdQw/SearchTimeline\u001B[39;49m\u001B[38;5;124;43m'\u001B[39;49m\u001B[43m,\u001B[49m\u001B[43m \u001B[49m\u001B[43m_TwitterAPIType\u001B[49m\u001B[38;5;241;43m.\u001B[39;49m\u001B[43mGRAPHQL\u001B[49m\u001B[43m,\u001B[49m\u001B[43m \u001B[49m\u001B[43mparams\u001B[49m\u001B[43m,\u001B[49m\u001B[43m \u001B[49m\u001B[43mpaginationParams\u001B[49m\u001B[43m,\u001B[49m\u001B[43m \u001B[49m\u001B[43mcursor\u001B[49m\u001B[43m \u001B[49m\u001B[38;5;241;43m=\u001B[39;49m\u001B[43m \u001B[49m\u001B[38;5;28;43mself\u001B[39;49m\u001B[38;5;241;43m.\u001B[39;49m\u001B[43m_cursor\u001B[49m\u001B[43m,\u001B[49m\u001B[43m \u001B[49m\u001B[43minstructionsPath\u001B[49m\u001B[43m \u001B[49m\u001B[38;5;241;43m=\u001B[39;49m\u001B[43m \u001B[49m\u001B[43m[\u001B[49m\u001B[38;5;124;43m'\u001B[39;49m\u001B[38;5;124;43mdata\u001B[39;49m\u001B[38;5;124;43m'\u001B[39;49m\u001B[43m,\u001B[49m\u001B[43m \u001B[49m\u001B[38;5;124;43m'\u001B[39;49m\u001B[38;5;124;43msearch_by_raw_query\u001B[39;49m\u001B[38;5;124;43m'\u001B[39;49m\u001B[43m,\u001B[49m\u001B[43m \u001B[49m\u001B[38;5;124;43m'\u001B[39;49m\u001B[38;5;124;43msearch_timeline\u001B[39;49m\u001B[38;5;124;43m'\u001B[39;49m\u001B[43m,\u001B[49m\u001B[43m \u001B[49m\u001B[38;5;124;43m'\u001B[39;49m\u001B[38;5;124;43mtimeline\u001B[39;49m\u001B[38;5;124;43m'\u001B[39;49m\u001B[43m,\u001B[49m\u001B[43m \u001B[49m\u001B[38;5;124;43m'\u001B[39;49m\u001B[38;5;124;43minstructions\u001B[39;49m\u001B[38;5;124;43m'\u001B[39;49m\u001B[43m]\u001B[49m\u001B[43m)\u001B[49m\u001B[43m:\u001B[49m\n\u001B[1;32m   1764\u001B[0m \u001B[43m\t\u001B[49m\u001B[38;5;28;43;01myield from\u001B[39;49;00m\u001B[43m \u001B[49m\u001B[38;5;28;43mself\u001B[39;49m\u001B[38;5;241;43m.\u001B[39;49m\u001B[43m_graphql_timeline_instructions_to_tweets\u001B[49m\u001B[43m(\u001B[49m\u001B[43mobj\u001B[49m\u001B[43m[\u001B[49m\u001B[38;5;124;43m'\u001B[39;49m\u001B[38;5;124;43mdata\u001B[39;49m\u001B[38;5;124;43m'\u001B[39;49m\u001B[43m]\u001B[49m\u001B[43m[\u001B[49m\u001B[38;5;124;43m'\u001B[39;49m\u001B[38;5;124;43msearch_by_raw_query\u001B[39;49m\u001B[38;5;124;43m'\u001B[39;49m\u001B[43m]\u001B[49m\u001B[43m[\u001B[49m\u001B[38;5;124;43m'\u001B[39;49m\u001B[38;5;124;43msearch_timeline\u001B[39;49m\u001B[38;5;124;43m'\u001B[39;49m\u001B[43m]\u001B[49m\u001B[43m[\u001B[49m\u001B[38;5;124;43m'\u001B[39;49m\u001B[38;5;124;43mtimeline\u001B[39;49m\u001B[38;5;124;43m'\u001B[39;49m\u001B[43m]\u001B[49m\u001B[43m[\u001B[49m\u001B[38;5;124;43m'\u001B[39;49m\u001B[38;5;124;43minstructions\u001B[39;49m\u001B[38;5;124;43m'\u001B[39;49m\u001B[43m]\u001B[49m\u001B[43m)\u001B[49m\n",
      "File \u001B[0;32m~/PycharmProjects/Stock Trading and Setiment Analysis/.venv/lib/python3.11/site-packages/snscrape/modules/twitter.py:915\u001B[0m, in \u001B[0;36m_TwitterAPIScraper._iter_api_data\u001B[0;34m(self, endpoint, apiType, params, paginationParams, cursor, direction, instructionsPath)\u001B[0m\n\u001B[1;32m    913\u001B[0m \u001B[38;5;28;01mwhile\u001B[39;00m \u001B[38;5;28;01mTrue\u001B[39;00m:\n\u001B[1;32m    914\u001B[0m \t_logger\u001B[38;5;241m.\u001B[39minfo(\u001B[38;5;124mf\u001B[39m\u001B[38;5;124m'\u001B[39m\u001B[38;5;124mRetrieving scroll page \u001B[39m\u001B[38;5;132;01m{\u001B[39;00mcursor\u001B[38;5;132;01m}\u001B[39;00m\u001B[38;5;124m'\u001B[39m)\n\u001B[0;32m--> 915\u001B[0m \tobj \u001B[38;5;241m=\u001B[39m \u001B[38;5;28;43mself\u001B[39;49m\u001B[38;5;241;43m.\u001B[39;49m\u001B[43m_get_api_data\u001B[49m\u001B[43m(\u001B[49m\u001B[43mendpoint\u001B[49m\u001B[43m,\u001B[49m\u001B[43m \u001B[49m\u001B[43mapiType\u001B[49m\u001B[43m,\u001B[49m\u001B[43m \u001B[49m\u001B[43mreqParams\u001B[49m\u001B[43m,\u001B[49m\u001B[43m \u001B[49m\u001B[43minstructionsPath\u001B[49m\u001B[43m \u001B[49m\u001B[38;5;241;43m=\u001B[39;49m\u001B[43m \u001B[49m\u001B[43minstructionsPath\u001B[49m\u001B[43m)\u001B[49m\n\u001B[1;32m    916\u001B[0m \t\u001B[38;5;28;01myield\u001B[39;00m obj\n\u001B[1;32m    918\u001B[0m \t\u001B[38;5;66;03m# No data format test, just a hard and loud crash if anything's wrong :-)\u001B[39;00m\n",
      "File \u001B[0;32m~/PycharmProjects/Stock Trading and Setiment Analysis/.venv/lib/python3.11/site-packages/snscrape/modules/twitter.py:883\u001B[0m, in \u001B[0;36m_TwitterAPIScraper._get_api_data\u001B[0;34m(self, endpoint, apiType, params, instructionsPath)\u001B[0m\n\u001B[1;32m    882\u001B[0m \u001B[38;5;28;01mdef\u001B[39;00m \u001B[38;5;21m_get_api_data\u001B[39m(\u001B[38;5;28mself\u001B[39m, endpoint, apiType, params, instructionsPath \u001B[38;5;241m=\u001B[39m \u001B[38;5;28;01mNone\u001B[39;00m):\n\u001B[0;32m--> 883\u001B[0m \t\u001B[38;5;28;43mself\u001B[39;49m\u001B[38;5;241;43m.\u001B[39;49m\u001B[43m_ensure_guest_token\u001B[49m\u001B[43m(\u001B[49m\u001B[43m)\u001B[49m\n\u001B[1;32m    884\u001B[0m \t\u001B[38;5;28;01mif\u001B[39;00m apiType \u001B[38;5;129;01mis\u001B[39;00m _TwitterAPIType\u001B[38;5;241m.\u001B[39mGRAPHQL:\n\u001B[1;32m    885\u001B[0m \t\tparams \u001B[38;5;241m=\u001B[39m urllib\u001B[38;5;241m.\u001B[39mparse\u001B[38;5;241m.\u001B[39murlencode({k: json\u001B[38;5;241m.\u001B[39mdumps(v, separators \u001B[38;5;241m=\u001B[39m (\u001B[38;5;124m'\u001B[39m\u001B[38;5;124m,\u001B[39m\u001B[38;5;124m'\u001B[39m, \u001B[38;5;124m'\u001B[39m\u001B[38;5;124m:\u001B[39m\u001B[38;5;124m'\u001B[39m)) \u001B[38;5;28;01mfor\u001B[39;00m k, v \u001B[38;5;129;01min\u001B[39;00m params\u001B[38;5;241m.\u001B[39mitems()}, quote_via \u001B[38;5;241m=\u001B[39m urllib\u001B[38;5;241m.\u001B[39mparse\u001B[38;5;241m.\u001B[39mquote)\n",
      "File \u001B[0;32m~/PycharmProjects/Stock Trading and Setiment Analysis/.venv/lib/python3.11/site-packages/snscrape/modules/twitter.py:825\u001B[0m, in \u001B[0;36m_TwitterAPIScraper._ensure_guest_token\u001B[0;34m(self, url)\u001B[0m\n\u001B[1;32m    823\u001B[0m \u001B[38;5;28;01mif\u001B[39;00m \u001B[38;5;28mself\u001B[39m\u001B[38;5;241m.\u001B[39m_guestTokenManager\u001B[38;5;241m.\u001B[39mtoken \u001B[38;5;129;01mis\u001B[39;00m \u001B[38;5;28;01mNone\u001B[39;00m:\n\u001B[1;32m    824\u001B[0m \t_logger\u001B[38;5;241m.\u001B[39minfo(\u001B[38;5;124m'\u001B[39m\u001B[38;5;124mRetrieving guest token\u001B[39m\u001B[38;5;124m'\u001B[39m)\n\u001B[0;32m--> 825\u001B[0m \tr \u001B[38;5;241m=\u001B[39m \u001B[38;5;28;43mself\u001B[39;49m\u001B[38;5;241;43m.\u001B[39;49m\u001B[43m_get\u001B[49m\u001B[43m(\u001B[49m\u001B[38;5;28;43mself\u001B[39;49m\u001B[38;5;241;43m.\u001B[39;49m\u001B[43m_baseUrl\u001B[49m\u001B[43m \u001B[49m\u001B[38;5;28;43;01mif\u001B[39;49;00m\u001B[43m \u001B[49m\u001B[43murl\u001B[49m\u001B[43m \u001B[49m\u001B[38;5;129;43;01mis\u001B[39;49;00m\u001B[43m \u001B[49m\u001B[38;5;28;43;01mNone\u001B[39;49;00m\u001B[43m \u001B[49m\u001B[38;5;28;43;01melse\u001B[39;49;00m\u001B[43m \u001B[49m\u001B[43murl\u001B[49m\u001B[43m,\u001B[49m\u001B[43m \u001B[49m\u001B[43mresponseOkCallback\u001B[49m\u001B[43m \u001B[49m\u001B[38;5;241;43m=\u001B[39;49m\u001B[43m \u001B[49m\u001B[38;5;28;43mself\u001B[39;49m\u001B[38;5;241;43m.\u001B[39;49m\u001B[43m_check_guest_token_response\u001B[49m\u001B[43m)\u001B[49m\n\u001B[1;32m    826\u001B[0m \t\u001B[38;5;28;01mif\u001B[39;00m (match \u001B[38;5;241m:=\u001B[39m re\u001B[38;5;241m.\u001B[39msearch(\u001B[38;5;124mr\u001B[39m\u001B[38;5;124m'\u001B[39m\u001B[38;5;124mdocument\u001B[39m\u001B[38;5;124m\\\u001B[39m\u001B[38;5;124m.cookie = decodeURIComponent\u001B[39m\u001B[38;5;124m\\\u001B[39m\u001B[38;5;124m(\u001B[39m\u001B[38;5;124m\"\u001B[39m\u001B[38;5;124mgt=(\u001B[39m\u001B[38;5;124m\\\u001B[39m\u001B[38;5;124md+); Max-Age=10800; Domain=\u001B[39m\u001B[38;5;124m\\\u001B[39m\u001B[38;5;124m.twitter\u001B[39m\u001B[38;5;124m\\\u001B[39m\u001B[38;5;124m.com; Path=/; Secure\u001B[39m\u001B[38;5;124m\"\u001B[39m\u001B[38;5;124m\\\u001B[39m\u001B[38;5;124m);\u001B[39m\u001B[38;5;124m'\u001B[39m, r\u001B[38;5;241m.\u001B[39mtext)):\n\u001B[1;32m    827\u001B[0m \t\t_logger\u001B[38;5;241m.\u001B[39mdebug(\u001B[38;5;124m'\u001B[39m\u001B[38;5;124mFound guest token in HTML\u001B[39m\u001B[38;5;124m'\u001B[39m)\n",
      "File \u001B[0;32m~/PycharmProjects/Stock Trading and Setiment Analysis/.venv/lib/python3.11/site-packages/snscrape/base.py:275\u001B[0m, in \u001B[0;36mScraper._get\u001B[0;34m(self, *args, **kwargs)\u001B[0m\n\u001B[1;32m    274\u001B[0m \u001B[38;5;28;01mdef\u001B[39;00m \u001B[38;5;21m_get\u001B[39m(\u001B[38;5;28mself\u001B[39m, \u001B[38;5;241m*\u001B[39margs, \u001B[38;5;241m*\u001B[39m\u001B[38;5;241m*\u001B[39mkwargs):\n\u001B[0;32m--> 275\u001B[0m \t\u001B[38;5;28;01mreturn\u001B[39;00m \u001B[38;5;28;43mself\u001B[39;49m\u001B[38;5;241;43m.\u001B[39;49m\u001B[43m_request\u001B[49m\u001B[43m(\u001B[49m\u001B[38;5;124;43m'\u001B[39;49m\u001B[38;5;124;43mGET\u001B[39;49m\u001B[38;5;124;43m'\u001B[39;49m\u001B[43m,\u001B[49m\u001B[43m \u001B[49m\u001B[38;5;241;43m*\u001B[39;49m\u001B[43margs\u001B[49m\u001B[43m,\u001B[49m\u001B[43m \u001B[49m\u001B[38;5;241;43m*\u001B[39;49m\u001B[38;5;241;43m*\u001B[39;49m\u001B[43mkwargs\u001B[49m\u001B[43m)\u001B[49m\n",
      "File \u001B[0;32m~/PycharmProjects/Stock Trading and Setiment Analysis/.venv/lib/python3.11/site-packages/snscrape/base.py:271\u001B[0m, in \u001B[0;36mScraper._request\u001B[0;34m(self, method, url, params, data, headers, timeout, responseOkCallback, allowRedirects, proxies)\u001B[0m\n\u001B[1;32m    269\u001B[0m \t_logger\u001B[38;5;241m.\u001B[39mfatal(msg)\n\u001B[1;32m    270\u001B[0m \t_logger\u001B[38;5;241m.\u001B[39mfatal(\u001B[38;5;124mf\u001B[39m\u001B[38;5;124m'\u001B[39m\u001B[38;5;124mErrors: \u001B[39m\u001B[38;5;132;01m{\u001B[39;00m\u001B[38;5;124m\"\u001B[39m\u001B[38;5;124m, \u001B[39m\u001B[38;5;124m\"\u001B[39m\u001B[38;5;241m.\u001B[39mjoin(errors)\u001B[38;5;132;01m}\u001B[39;00m\u001B[38;5;124m'\u001B[39m)\n\u001B[0;32m--> 271\u001B[0m \t\u001B[38;5;28;01mraise\u001B[39;00m ScraperException(msg)\n\u001B[1;32m    272\u001B[0m \u001B[38;5;28;01mraise\u001B[39;00m \u001B[38;5;167;01mRuntimeError\u001B[39;00m(\u001B[38;5;124m'\u001B[39m\u001B[38;5;124mReached unreachable code\u001B[39m\u001B[38;5;124m'\u001B[39m)\n",
      "\u001B[0;31mScraperException\u001B[0m: 4 requests to https://twitter.com/search?f=live&lang=en&q=+%24AAPL&src=spelling_expansion_revert_click failed, giving up."
     ]
    }
   ],
   "execution_count": 104
  },
  {
   "metadata": {
    "ExecuteTime": {
     "end_time": "2024-06-27T14:30:44.821550Z",
     "start_time": "2024-06-27T14:30:44.251303Z"
    }
   },
   "cell_type": "code",
   "source": [
    "\n",
    "import requests\n",
    "import certifi\n",
    "\n",
    "response = requests.get('https://x.com/search?f=live&lang=en&q=+%24AAPL&src=spelling_expansion_revert_click')\n",
    "print(response.text)\n"
   ],
   "id": "c81cc7062cecd22a",
   "outputs": [
    {
     "name": "stdout",
     "output_type": "stream",
     "text": [
      "\n",
      "    <!DOCTYPE html>\n",
      "    <head>\n",
      "      <title>x.com</title>\n",
      "      <meta http-equiv=\"refresh\" content=\"0; url = https://twitter.com/x/migrate?tok=7b2265223a222f7365617263683f663d6c697665266c616e673d656e26713d2b2532344141504c267372633d7370656c6c696e675f657870616e73696f6e5f7265766572745f636c69636b222c2274223a313731393439383634347d92c26d8be970dc24bedb292c6ff7fc23\" />\n",
      "      <meta charset=\"utf-8\">\n",
      "      <meta name=\"viewport\" content=\"width=device-width,initial-scale=1,maximum-scale=1,user-scalable=0,viewport-fit=cover\">\n",
      "\n",
      "      <link rel=\"preconnect\" href=\"//abs.twimg.com\">\n",
      "      <link rel=\"dns-prefetch\" href=\"//abs.twimg.com\">\n",
      "      <link rel=\"preconnect\" href=\"//api.twitter.com\">\n",
      "      <link rel=\"dns-prefetch\" href=\"//api.twitter.com\">\n",
      "      <link rel=\"preconnect\" href=\"//api.x.com\">\n",
      "      <link rel=\"dns-prefetch\" href=\"//api.x.com\">\n",
      "      <link rel=\"preconnect\" href=\"//pbs.twimg.com\">\n",
      "      <link rel=\"dns-prefetch\" href=\"//pbs.twimg.com\">\n",
      "      <link rel=\"preconnect\" href=\"//t.co\">\n",
      "      <link rel=\"dns-prefetch\" href=\"//t.co\">\n",
      "      <meta http-equiv=\"onion-location\" content=\"https://twitter3e4tixl4xyajtrzo62zg5vztmjuricljdp2c5kshju4avyoid.onion/\" />\n",
      "      <meta property=\"fb:app_id\" content=\"2231777543\" />\n",
      "      <meta content=\"X (formerly Twitter)\" property=\"og:site_name\" />\n",
      "      <meta name=\"google-site-verification\" content=\"600dQ0pZYsH2xOFt4hYmf5f5NpjCbWE_qk5Y04dErYM\" />\n",
      "      <meta name=\"facebook-domain-verification\" content=\"x6sdcc8b5ju3bh8nbm59eswogvg6t1\" />\n",
      "      <meta name=\"mobile-web-app-capable\" content=\"yes\" />\n",
      "      <meta name=\"apple-mobile-web-app-title\" content=\"Twitter\" />\n",
      "      <meta name=\"apple-mobile-web-app-status-bar-style\" content=\"white\" />\n",
      "      <link rel=\"search\" type=\"application/opensearchdescription+xml\" href=\"/opensearch.xml\" title=\"Twitter\"/>\n",
      "      <link rel=\"apple-touch-icon\" sizes=\"192x192\" href=\"https://abs.twimg.com/responsive-web/client-web/icon-ios.77d25eba.png\" />\n",
      "      <meta name=\"twitter-site-verification\" content=\"AUVDWo1JpbjI22xjTe5JOvTAWuW9bK41CpxYxCeCjH97mEVp7rtiHcvdOaUksJrG\" />\n",
      "      <link rel=\"manifest\" href=\"/manifest.json\" crossorigin=\"use-credentials\" />\n",
      "      <link rel=\"mask-icon\" sizes=\"any\" href=\"https://abs.twimg.com/responsive-web/client-web/icon-svg.ea5ff4aa.svg\" color=\"#1D9BF0\" />\n",
      "      <link rel=\"shortcut icon\" href=\"https://abs.twimg.com/favicons/twitter-pip.3.ico\" />\n",
      "      <meta name=\"theme-color\" content=\"#000000\" />\n",
      "      <script type=\"text/javascript\" charset=\"utf-8\" nonce=\"ZjQzODllNTEtZmZmZC00MjM0LTgzODgtMjMxYzk5NTE5MWQ4\">document.location = \"https://twitter.com/x/migrate?tok=7b2265223a222f7365617263683f663d6c697665266c616e673d656e26713d2b2532344141504c267372633d7370656c6c696e675f657870616e73696f6e5f7265766572745f636c69636b222c2274223a313731393439383634347d92c26d8be970dc24bedb292c6ff7fc23\"</script>\n",
      "      </head>\n",
      "    <body style=\"background: #000\">\n",
      "\n",
      "    </body>\n",
      "    </html>\n",
      "    \n"
     ]
    }
   ],
   "execution_count": 106
  },
  {
   "metadata": {},
   "cell_type": "code",
   "outputs": [],
   "execution_count": null,
   "source": "",
   "id": "958c0b0a0792cc02"
  }
 ],
 "metadata": {
  "kernelspec": {
   "display_name": "Python 3",
   "language": "python",
   "name": "python3"
  },
  "language_info": {
   "codemirror_mode": {
    "name": "ipython",
    "version": 2
   },
   "file_extension": ".py",
   "mimetype": "text/x-python",
   "name": "python",
   "nbconvert_exporter": "python",
   "pygments_lexer": "ipython2",
   "version": "2.7.6"
  }
 },
 "nbformat": 4,
 "nbformat_minor": 5
}
