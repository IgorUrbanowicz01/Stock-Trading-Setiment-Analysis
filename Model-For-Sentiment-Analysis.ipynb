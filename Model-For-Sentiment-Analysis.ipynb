{
 "cells": [
  {
   "metadata": {},
   "cell_type": "markdown",
   "source": "# Sentiment Analysis ",
   "id": "71f1c6f1f3fc671f"
  },
  {
   "metadata": {
    "ExecuteTime": {
     "end_time": "2024-08-29T15:50:24.817072Z",
     "start_time": "2024-08-29T15:50:24.796600Z"
    }
   },
   "cell_type": "code",
   "source": [
    "%load_ext autoreload\n",
    "%autoreload 2"
   ],
   "id": "141b940e5367d242",
   "outputs": [],
   "execution_count": 1
  },
  {
   "metadata": {
    "ExecuteTime": {
     "end_time": "2024-08-29T15:50:24.899504Z",
     "start_time": "2024-08-29T15:50:24.870430Z"
    }
   },
   "cell_type": "code",
   "source": "  %reload_ext autoreload",
   "id": "c05a632cbcdaa4c",
   "outputs": [],
   "execution_count": 2
  },
  {
   "metadata": {
    "ExecuteTime": {
     "end_time": "2024-08-29T15:50:28.239319Z",
     "start_time": "2024-08-29T15:50:24.924367Z"
    }
   },
   "cell_type": "code",
   "source": [
    "import pandas as pd\n",
    "from pathlib import Path\n",
    "from scrape_finviz import scrape_finviz\n",
    "import yfinance as yf\n",
    "from plot import create_plot\n",
    "import time\n",
    "from tqdm import tqdm\n",
    "from transformers import AutoTokenizer, AutoModelForSequenceClassification"
   ],
   "id": "793774dc4fc6a55c",
   "outputs": [],
   "execution_count": 3
  },
  {
   "metadata": {
    "ExecuteTime": {
     "end_time": "2024-08-29T15:50:30.065838Z",
     "start_time": "2024-08-29T15:50:28.423574Z"
    }
   },
   "cell_type": "code",
   "source": [
    "hist_dict = {}\n",
    "stoks = ['MSFT','AAPL', 'GOOG', 'NVDA', 'TSLA']\n",
    "for s in stoks:\n",
    "    tkr = yf.Ticker(s)\n",
    "    history = tkr.history(period='5y')\n",
    "    hist_dict[s] = history"
   ],
   "id": "d39b79fb5df232a9",
   "outputs": [],
   "execution_count": 4
  },
  {
   "metadata": {
    "ExecuteTime": {
     "end_time": "2024-08-29T15:50:30.223282Z",
     "start_time": "2024-08-29T15:50:30.115086Z"
    }
   },
   "cell_type": "code",
   "source": [
    "app = create_plot(hist_dict)\n",
    "app.run()\n",
    "#http://127.0.0.1:8050/"
   ],
   "id": "a383c6e2b0500df2",
   "outputs": [
    {
     "data": {
      "text/plain": [
       "<IPython.lib.display.IFrame at 0x7d53dff08e90>"
      ],
      "text/html": [
       "\n",
       "        <iframe\n",
       "            width=\"100%\"\n",
       "            height=\"650\"\n",
       "            src=\"http://127.0.0.1:8050/\"\n",
       "            frameborder=\"0\"\n",
       "            allowfullscreen\n",
       "            \n",
       "        ></iframe>\n",
       "        "
      ]
     },
     "metadata": {},
     "output_type": "display_data"
    }
   ],
   "execution_count": 5
  },
  {
   "metadata": {},
   "cell_type": "markdown",
   "source": "# Gathering Data with News Api's",
   "id": "74fdf6d9d2aea26d"
  },
  {
   "metadata": {
    "ExecuteTime": {
     "end_time": "2024-08-29T15:50:37.278460Z",
     "start_time": "2024-08-29T15:50:30.239370Z"
    }
   },
   "cell_type": "code",
   "source": [
    "for key in hist_dict.keys():\n",
    "    scrape_finviz(key)\n",
    "    time.sleep(1)"
   ],
   "id": "9ae158c4c2bc870a",
   "outputs": [],
   "execution_count": 6
  },
  {
   "metadata": {},
   "cell_type": "markdown",
   "source": "# Model ",
   "id": "30267a025ca8128a"
  },
  {
   "metadata": {
    "ExecuteTime": {
     "end_time": "2024-08-29T15:50:37.550565Z",
     "start_time": "2024-08-29T15:50:37.305325Z"
    }
   },
   "cell_type": "code",
   "source": [
    "for key in hist_dict.keys():\n",
    "    p = Path('./data/' + key + '.csv')\n",
    "    df = pd.read_csv(p)\n",
    "    for idx, row in tqdm(df.iterrows(), total=df.shape[0]):\n",
    "        text = row['article']\n",
    "        id = idx\n",
    "        \n",
    "        "
   ],
   "id": "4e39f35644ad8a89",
   "outputs": [
    {
     "name": "stderr",
     "output_type": "stream",
     "text": [
      "100%|██████████| 554/554 [00:00<00:00, 22195.90it/s]\n",
      "100%|██████████| 592/592 [00:00<00:00, 16526.42it/s]\n",
      "100%|██████████| 775/775 [00:00<00:00, 21240.94it/s]\n",
      "100%|██████████| 979/979 [00:00<00:00, 23199.53it/s]\n",
      "100%|██████████| 557/557 [00:00<00:00, 24456.97it/s]\n"
     ]
    }
   ],
   "execution_count": 7
  },
  {
   "metadata": {
    "ExecuteTime": {
     "end_time": "2024-08-29T15:50:37.618366Z",
     "start_time": "2024-08-29T15:50:37.589216Z"
    }
   },
   "cell_type": "code",
   "source": [
    "df = pd.read_csv('./data/AAPL.csv')\n",
    "df.head()"
   ],
   "id": "946c64eed8dbf11c",
   "outputs": [
    {
     "data": {
      "text/plain": [
       "                                             article        date\n",
       "0  Apple Inc. (AAPL): A Beginner Stock You Should...  2024-08-29\n",
       "1  Apple Is Citis Top AI Stock Pick. Its Finally ...  2024-08-29\n",
       "2  Apple Stock Can Taste A Breakout As Tesla Fall...  2024-08-29\n",
       "3  Breakout Watch: Apple Stock Shines As Tesla Fa...  2024-08-29\n",
       "4   Is Meta Stock A Buy As It Hovers Near Key Level?  2024-08-29"
      ],
      "text/html": [
       "<div>\n",
       "<style scoped>\n",
       "    .dataframe tbody tr th:only-of-type {\n",
       "        vertical-align: middle;\n",
       "    }\n",
       "\n",
       "    .dataframe tbody tr th {\n",
       "        vertical-align: top;\n",
       "    }\n",
       "\n",
       "    .dataframe thead th {\n",
       "        text-align: right;\n",
       "    }\n",
       "</style>\n",
       "<table border=\"1\" class=\"dataframe\">\n",
       "  <thead>\n",
       "    <tr style=\"text-align: right;\">\n",
       "      <th></th>\n",
       "      <th>article</th>\n",
       "      <th>date</th>\n",
       "    </tr>\n",
       "  </thead>\n",
       "  <tbody>\n",
       "    <tr>\n",
       "      <th>0</th>\n",
       "      <td>Apple Inc. (AAPL): A Beginner Stock You Should...</td>\n",
       "      <td>2024-08-29</td>\n",
       "    </tr>\n",
       "    <tr>\n",
       "      <th>1</th>\n",
       "      <td>Apple Is Citis Top AI Stock Pick. Its Finally ...</td>\n",
       "      <td>2024-08-29</td>\n",
       "    </tr>\n",
       "    <tr>\n",
       "      <th>2</th>\n",
       "      <td>Apple Stock Can Taste A Breakout As Tesla Fall...</td>\n",
       "      <td>2024-08-29</td>\n",
       "    </tr>\n",
       "    <tr>\n",
       "      <th>3</th>\n",
       "      <td>Breakout Watch: Apple Stock Shines As Tesla Fa...</td>\n",
       "      <td>2024-08-29</td>\n",
       "    </tr>\n",
       "    <tr>\n",
       "      <th>4</th>\n",
       "      <td>Is Meta Stock A Buy As It Hovers Near Key Level?</td>\n",
       "      <td>2024-08-29</td>\n",
       "    </tr>\n",
       "  </tbody>\n",
       "</table>\n",
       "</div>"
      ]
     },
     "execution_count": 8,
     "metadata": {},
     "output_type": "execute_result"
    }
   ],
   "execution_count": 8
  },
  {
   "metadata": {
    "ExecuteTime": {
     "end_time": "2024-08-29T15:50:37.719102Z",
     "start_time": "2024-08-29T15:50:37.712862Z"
    }
   },
   "cell_type": "code",
   "source": "",
   "id": "4195c779e5ed8141",
   "outputs": [],
   "execution_count": null
  }
 ],
 "metadata": {
  "kernelspec": {
   "display_name": "Python 3",
   "language": "python",
   "name": "python3"
  },
  "language_info": {
   "codemirror_mode": {
    "name": "ipython",
    "version": 2
   },
   "file_extension": ".py",
   "mimetype": "text/x-python",
   "name": "python",
   "nbconvert_exporter": "python",
   "pygments_lexer": "ipython2",
   "version": "2.7.6"
  }
 },
 "nbformat": 4,
 "nbformat_minor": 5
}
