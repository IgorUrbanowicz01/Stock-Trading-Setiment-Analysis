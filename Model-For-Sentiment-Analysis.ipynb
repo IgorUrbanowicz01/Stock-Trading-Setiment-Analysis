{
 "cells": [
  {
   "metadata": {},
   "cell_type": "markdown",
   "source": "# Sentiment Analysis ",
   "id": "71f1c6f1f3fc671f"
  },
  {
   "metadata": {
    "ExecuteTime": {
     "end_time": "2024-09-05T17:39:50.513271Z",
     "start_time": "2024-09-05T17:39:50.476878Z"
    }
   },
   "cell_type": "code",
   "source": [
    "%load_ext autoreload\n",
    "%autoreload 2"
   ],
   "id": "141b940e5367d242",
   "outputs": [
    {
     "name": "stdout",
     "output_type": "stream",
     "text": [
      "The autoreload extension is already loaded. To reload it, use:\n",
      "  %reload_ext autoreload\n"
     ]
    }
   ],
   "execution_count": 9
  },
  {
   "metadata": {
    "ExecuteTime": {
     "end_time": "2024-09-05T17:39:50.723595Z",
     "start_time": "2024-09-05T17:39:50.629343Z"
    }
   },
   "cell_type": "code",
   "source": "  %reload_ext autoreload",
   "id": "c05a632cbcdaa4c",
   "outputs": [],
   "execution_count": 10
  },
  {
   "metadata": {
    "ExecuteTime": {
     "end_time": "2024-09-05T17:39:50.816585Z",
     "start_time": "2024-09-05T17:39:50.756551Z"
    }
   },
   "cell_type": "code",
   "source": [
    "import pandas as pd\n",
    "from pathlib import Path\n",
    "from scrape_finviz import scrape_finviz\n",
    "import yfinance as yf\n",
    "from plot import create_plot\n",
    "import time\n",
    "from tqdm import tqdm\n",
    "from transformers import AutoTokenizer, AutoModelForSequenceClassification"
   ],
   "id": "793774dc4fc6a55c",
   "outputs": [],
   "execution_count": 11
  },
  {
   "metadata": {
    "ExecuteTime": {
     "end_time": "2024-09-05T17:39:52.033738Z",
     "start_time": "2024-09-05T17:39:50.842900Z"
    }
   },
   "cell_type": "code",
   "source": [
    "hist_dict = {}\n",
    "stoks = ['MSFT','AAPL', 'GOOG', 'NVDA', 'TSLA']\n",
    "for s in stoks:\n",
    "    tkr = yf.Ticker(s)\n",
    "    history = tkr.history(period='5y')\n",
    "    hist_dict[s] = history"
   ],
   "id": "d39b79fb5df232a9",
   "outputs": [],
   "execution_count": 12
  },
  {
   "metadata": {
    "ExecuteTime": {
     "end_time": "2024-09-05T17:39:52.188464Z",
     "start_time": "2024-09-05T17:39:52.065742Z"
    }
   },
   "cell_type": "code",
   "source": [
    "app = create_plot(hist_dict)\n",
    "app.run()\n",
    "#http://127.0.0.1:8050/"
   ],
   "id": "a383c6e2b0500df2",
   "outputs": [
    {
     "data": {
      "text/plain": [
       "<IPython.lib.display.IFrame at 0x754b94bf62d0>"
      ],
      "text/html": [
       "\n",
       "        <iframe\n",
       "            width=\"100%\"\n",
       "            height=\"650\"\n",
       "            src=\"http://127.0.0.1:8050/\"\n",
       "            frameborder=\"0\"\n",
       "            allowfullscreen\n",
       "            \n",
       "        ></iframe>\n",
       "        "
      ]
     },
     "metadata": {},
     "output_type": "display_data"
    }
   ],
   "execution_count": 13
  },
  {
   "metadata": {},
   "cell_type": "markdown",
   "source": "# Gathering Data with News Api's",
   "id": "74fdf6d9d2aea26d"
  },
  {
   "metadata": {
    "ExecuteTime": {
     "end_time": "2024-09-05T17:40:00.557130Z",
     "start_time": "2024-09-05T17:39:52.226986Z"
    }
   },
   "cell_type": "code",
   "source": [
    "for key in hist_dict.keys():\n",
    "    scrape_finviz(key)\n",
    "    time.sleep(1)"
   ],
   "id": "9ae158c4c2bc870a",
   "outputs": [],
   "execution_count": 14
  },
  {
   "metadata": {},
   "cell_type": "markdown",
   "source": "# Model ",
   "id": "30267a025ca8128a"
  },
  {
   "metadata": {
    "ExecuteTime": {
     "end_time": "2024-09-05T17:40:00.902895Z",
     "start_time": "2024-09-05T17:40:00.588314Z"
    }
   },
   "cell_type": "code",
   "source": [
    "for key in hist_dict.keys():\n",
    "    p = Path('./data/' + key + '.csv')\n",
    "    df = pd.read_csv(p)\n",
    "    for idx, row in tqdm(df.iterrows(), total=df.shape[0]):\n",
    "        text = row['article']\n",
    "        id = idx\n",
    "        \n",
    "        "
   ],
   "id": "4e39f35644ad8a89",
   "outputs": [
    {
     "name": "stderr",
     "output_type": "stream",
     "text": [
      "100%|██████████| 675/675 [00:00<00:00, 14993.30it/s]\n",
      "100%|██████████| 734/734 [00:00<00:00, 15146.44it/s]\n",
      "100%|██████████| 896/896 [00:00<00:00, 18549.98it/s]\n",
      "100%|██████████| 1283/1283 [00:00<00:00, 20891.81it/s]\n",
      "100%|██████████| 692/692 [00:00<00:00, 21491.73it/s]\n"
     ]
    }
   ],
   "execution_count": 15
  },
  {
   "metadata": {
    "ExecuteTime": {
     "end_time": "2024-09-05T17:40:01.009201Z",
     "start_time": "2024-09-05T17:40:00.955019Z"
    }
   },
   "cell_type": "code",
   "source": [
    "df = pd.read_csv('./data/AAPL.csv')\n",
    "df.head()"
   ],
   "id": "946c64eed8dbf11c",
   "outputs": [
    {
     "data": {
      "text/plain": [
       "                                             article        date\n",
       "0  ESPN Launches  Where to Watch  Feature, A Spor...  2024-09-05\n",
       "1  Investing in growth stocks? Here's one money m...  2024-09-05\n",
       "2  Target integrates curbside and in-store pickup...  2024-09-05\n",
       "3  These 5 Stocks Can Help Supercharge Your Portf...  2024-09-05\n",
       "4  13 Best American Tech Stocks To Buy According ...  2024-09-05"
      ],
      "text/html": [
       "<div>\n",
       "<style scoped>\n",
       "    .dataframe tbody tr th:only-of-type {\n",
       "        vertical-align: middle;\n",
       "    }\n",
       "\n",
       "    .dataframe tbody tr th {\n",
       "        vertical-align: top;\n",
       "    }\n",
       "\n",
       "    .dataframe thead th {\n",
       "        text-align: right;\n",
       "    }\n",
       "</style>\n",
       "<table border=\"1\" class=\"dataframe\">\n",
       "  <thead>\n",
       "    <tr style=\"text-align: right;\">\n",
       "      <th></th>\n",
       "      <th>article</th>\n",
       "      <th>date</th>\n",
       "    </tr>\n",
       "  </thead>\n",
       "  <tbody>\n",
       "    <tr>\n",
       "      <th>0</th>\n",
       "      <td>ESPN Launches  Where to Watch  Feature, A Spor...</td>\n",
       "      <td>2024-09-05</td>\n",
       "    </tr>\n",
       "    <tr>\n",
       "      <th>1</th>\n",
       "      <td>Investing in growth stocks? Here's one money m...</td>\n",
       "      <td>2024-09-05</td>\n",
       "    </tr>\n",
       "    <tr>\n",
       "      <th>2</th>\n",
       "      <td>Target integrates curbside and in-store pickup...</td>\n",
       "      <td>2024-09-05</td>\n",
       "    </tr>\n",
       "    <tr>\n",
       "      <th>3</th>\n",
       "      <td>These 5 Stocks Can Help Supercharge Your Portf...</td>\n",
       "      <td>2024-09-05</td>\n",
       "    </tr>\n",
       "    <tr>\n",
       "      <th>4</th>\n",
       "      <td>13 Best American Tech Stocks To Buy According ...</td>\n",
       "      <td>2024-09-05</td>\n",
       "    </tr>\n",
       "  </tbody>\n",
       "</table>\n",
       "</div>"
      ]
     },
     "execution_count": 16,
     "metadata": {},
     "output_type": "execute_result"
    }
   ],
   "execution_count": 16
  },
  {
   "metadata": {
    "ExecuteTime": {
     "end_time": "2024-09-05T17:40:01.072410Z",
     "start_time": "2024-09-05T17:40:01.068201Z"
    }
   },
   "cell_type": "code",
   "source": "",
   "id": "4195c779e5ed8141",
   "outputs": [],
   "execution_count": null
  }
 ],
 "metadata": {
  "kernelspec": {
   "display_name": "Python 3",
   "language": "python",
   "name": "python3"
  },
  "language_info": {
   "codemirror_mode": {
    "name": "ipython",
    "version": 2
   },
   "file_extension": ".py",
   "mimetype": "text/x-python",
   "name": "python",
   "nbconvert_exporter": "python",
   "pygments_lexer": "ipython2",
   "version": "2.7.6"
  }
 },
 "nbformat": 4,
 "nbformat_minor": 5
}
