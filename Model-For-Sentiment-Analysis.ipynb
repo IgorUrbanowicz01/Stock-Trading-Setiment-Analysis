{
 "cells": [
  {
   "metadata": {},
   "cell_type": "markdown",
   "source": "# Sentiment Analysis ",
   "id": "71f1c6f1f3fc671f"
  },
  {
   "metadata": {
    "ExecuteTime": {
     "end_time": "2024-10-27T17:08:47.636697Z",
     "start_time": "2024-10-27T17:08:47.604467Z"
    }
   },
   "cell_type": "code",
   "source": [
    "%load_ext autoreload\n",
    "%autoreload 2"
   ],
   "id": "141b940e5367d242",
   "outputs": [],
   "execution_count": 1
  },
  {
   "metadata": {
    "ExecuteTime": {
     "end_time": "2024-10-27T17:08:47.820556Z",
     "start_time": "2024-10-27T17:08:47.787487Z"
    }
   },
   "cell_type": "code",
   "source": "  %reload_ext autoreload",
   "id": "c05a632cbcdaa4c",
   "outputs": [],
   "execution_count": 2
  },
  {
   "metadata": {
    "ExecuteTime": {
     "end_time": "2024-10-27T17:08:52.697353Z",
     "start_time": "2024-10-27T17:08:48.052494Z"
    }
   },
   "cell_type": "code",
   "source": [
    "import pandas as pd\n",
    "from pathlib import Path\n",
    "from scrape_finviz import scrape_finviz\n",
    "import yfinance as yf\n",
    "from plot import create_plot\n",
    "import time\n",
    "from tqdm import tqdm\n",
    "from transformers import AutoTokenizer, AutoModelForSequenceClassification"
   ],
   "id": "793774dc4fc6a55c",
   "outputs": [],
   "execution_count": 3
  },
  {
   "metadata": {
    "ExecuteTime": {
     "end_time": "2024-10-27T17:08:55.019132Z",
     "start_time": "2024-10-27T17:08:52.882913Z"
    }
   },
   "cell_type": "code",
   "source": [
    "hist_dict = {}\n",
    "stoks = ['MSFT','AAPL', 'GOOG', 'NVDA', 'TSLA']\n",
    "for s in stoks:\n",
    "    tkr = yf.Ticker(s)\n",
    "    history = tkr.history(period='5y')\n",
    "    hist_dict[s] = history"
   ],
   "id": "d39b79fb5df232a9",
   "outputs": [],
   "execution_count": 4
  },
  {
   "metadata": {
    "ExecuteTime": {
     "end_time": "2024-10-27T17:08:55.234040Z",
     "start_time": "2024-10-27T17:08:55.076155Z"
    }
   },
   "cell_type": "code",
   "source": [
    "app = create_plot(hist_dict)\n",
    "app.run()\n",
    "#http://127.0.0.1:8050/"
   ],
   "id": "a383c6e2b0500df2",
   "outputs": [
    {
     "data": {
      "text/plain": [
       "<IPython.lib.display.IFrame at 0x7ac2d9e4dc10>"
      ],
      "text/html": [
       "\n",
       "        <iframe\n",
       "            width=\"100%\"\n",
       "            height=\"650\"\n",
       "            src=\"http://127.0.0.1:8050/\"\n",
       "            frameborder=\"0\"\n",
       "            allowfullscreen\n",
       "            \n",
       "        ></iframe>\n",
       "        "
      ]
     },
     "metadata": {},
     "output_type": "display_data"
    }
   ],
   "execution_count": 5
  },
  {
   "metadata": {},
   "cell_type": "markdown",
   "source": "# Gathering Data with News Api's",
   "id": "74fdf6d9d2aea26d"
  },
  {
   "metadata": {
    "ExecuteTime": {
     "end_time": "2024-10-27T17:09:04.345538Z",
     "start_time": "2024-10-27T17:08:55.253090Z"
    }
   },
   "cell_type": "code",
   "source": [
    "for key in hist_dict.keys():\n",
    "    scrape_finviz(key)\n",
    "    time.sleep(1)"
   ],
   "id": "9ae158c4c2bc870a",
   "outputs": [],
   "execution_count": 6
  },
  {
   "metadata": {},
   "cell_type": "markdown",
   "source": "# Model ",
   "id": "30267a025ca8128a"
  },
  {
   "metadata": {
    "ExecuteTime": {
     "end_time": "2024-10-27T17:09:04.860240Z",
     "start_time": "2024-10-27T17:09:04.370781Z"
    }
   },
   "cell_type": "code",
   "source": [
    "for key in hist_dict.keys():\n",
    "    p = Path('./data/' + key + '.csv')\n",
    "    df = pd.read_csv(p)\n",
    "    for idx, row in tqdm(df.iterrows(), total=df.shape[0]):\n",
    "        text = row['article']\n",
    "        id = idx\n",
    "        \n",
    "        "
   ],
   "id": "4e39f35644ad8a89",
   "outputs": [
    {
     "name": "stderr",
     "output_type": "stream",
     "text": [
      "100%|██████████| 1428/1428 [00:00<00:00, 13789.14it/s]\n",
      "100%|██████████| 1592/1592 [00:00<00:00, 23481.97it/s]\n",
      "100%|██████████| 1727/1727 [00:00<00:00, 21073.10it/s]\n",
      "100%|██████████| 2225/2225 [00:00<00:00, 21089.00it/s]\n",
      "100%|██████████| 1471/1471 [00:00<00:00, 23883.95it/s]\n"
     ]
    }
   ],
   "execution_count": 7
  },
  {
   "metadata": {
    "ExecuteTime": {
     "end_time": "2024-10-27T17:09:04.964933Z",
     "start_time": "2024-10-27T17:09:04.928221Z"
    }
   },
   "cell_type": "code",
   "source": [
    "df = pd.read_csv('./data/AAPL.csv')\n",
    "df.head()"
   ],
   "id": "946c64eed8dbf11c",
   "outputs": [
    {
     "data": {
      "text/plain": [
       "                                             article        date\n",
       "0  Five Stocks, 3 Days, $12 Trillion In Market Ca...  2024-10-27\n",
       "1  One chart shows how AI will drive another deca...  2024-10-27\n",
       "2  Magnificent 7 shake-up: Why Wall Street is rea...  2024-10-27\n",
       "3  Big Tech Stocks Lose Some of Their Aura as Ear...  2024-10-27\n",
       "4  Warren Buffett Has Dumped a Lot of Apple Stock...  2024-10-27"
      ],
      "text/html": [
       "<div>\n",
       "<style scoped>\n",
       "    .dataframe tbody tr th:only-of-type {\n",
       "        vertical-align: middle;\n",
       "    }\n",
       "\n",
       "    .dataframe tbody tr th {\n",
       "        vertical-align: top;\n",
       "    }\n",
       "\n",
       "    .dataframe thead th {\n",
       "        text-align: right;\n",
       "    }\n",
       "</style>\n",
       "<table border=\"1\" class=\"dataframe\">\n",
       "  <thead>\n",
       "    <tr style=\"text-align: right;\">\n",
       "      <th></th>\n",
       "      <th>article</th>\n",
       "      <th>date</th>\n",
       "    </tr>\n",
       "  </thead>\n",
       "  <tbody>\n",
       "    <tr>\n",
       "      <th>0</th>\n",
       "      <td>Five Stocks, 3 Days, $12 Trillion In Market Ca...</td>\n",
       "      <td>2024-10-27</td>\n",
       "    </tr>\n",
       "    <tr>\n",
       "      <th>1</th>\n",
       "      <td>One chart shows how AI will drive another deca...</td>\n",
       "      <td>2024-10-27</td>\n",
       "    </tr>\n",
       "    <tr>\n",
       "      <th>2</th>\n",
       "      <td>Magnificent 7 shake-up: Why Wall Street is rea...</td>\n",
       "      <td>2024-10-27</td>\n",
       "    </tr>\n",
       "    <tr>\n",
       "      <th>3</th>\n",
       "      <td>Big Tech Stocks Lose Some of Their Aura as Ear...</td>\n",
       "      <td>2024-10-27</td>\n",
       "    </tr>\n",
       "    <tr>\n",
       "      <th>4</th>\n",
       "      <td>Warren Buffett Has Dumped a Lot of Apple Stock...</td>\n",
       "      <td>2024-10-27</td>\n",
       "    </tr>\n",
       "  </tbody>\n",
       "</table>\n",
       "</div>"
      ]
     },
     "execution_count": 8,
     "metadata": {},
     "output_type": "execute_result"
    }
   ],
   "execution_count": 8
  },
  {
   "metadata": {
    "ExecuteTime": {
     "end_time": "2024-10-27T17:09:05.001695Z",
     "start_time": "2024-10-27T17:09:04.992865Z"
    }
   },
   "cell_type": "code",
   "source": "",
   "id": "4195c779e5ed8141",
   "outputs": [],
   "execution_count": null
  }
 ],
 "metadata": {
  "kernelspec": {
   "display_name": "Python 3",
   "language": "python",
   "name": "python3"
  },
  "language_info": {
   "codemirror_mode": {
    "name": "ipython",
    "version": 2
   },
   "file_extension": ".py",
   "mimetype": "text/x-python",
   "name": "python",
   "nbconvert_exporter": "python",
   "pygments_lexer": "ipython2",
   "version": "2.7.6"
  }
 },
 "nbformat": 4,
 "nbformat_minor": 5
}
