{
 "cells": [
  {
   "metadata": {},
   "cell_type": "markdown",
   "source": "# Sentiment Analysis ",
   "id": "71f1c6f1f3fc671f"
  },
  {
   "metadata": {
    "ExecuteTime": {
     "end_time": "2024-07-01T13:37:54.325957Z",
     "start_time": "2024-07-01T13:37:54.289528Z"
    }
   },
   "cell_type": "code",
   "source": [
    "%load_ext autoreload\n",
    "%autoreload 2"
   ],
   "id": "141b940e5367d242",
   "outputs": [],
   "execution_count": 7
  },
  {
   "metadata": {
    "ExecuteTime": {
     "end_time": "2024-07-01T13:38:55.658851Z",
     "start_time": "2024-07-01T13:38:55.600514Z"
    }
   },
   "cell_type": "code",
   "source": "  %reload_ext autoreload",
   "id": "c05a632cbcdaa4c",
   "outputs": [],
   "execution_count": 13
  },
  {
   "metadata": {
    "ExecuteTime": {
     "end_time": "2024-07-01T13:41:28.697633Z",
     "start_time": "2024-07-01T13:41:28.672919Z"
    }
   },
   "cell_type": "code",
   "source": [
    "import pandas as pd\n",
    "import numpy as np\n",
    "import matplotlib.pyplot as plt\n",
    "import yfinance as yf\n",
    "from plot import create_plot\n"
   ],
   "id": "793774dc4fc6a55c",
   "outputs": [],
   "execution_count": 26
  },
  {
   "metadata": {
    "ExecuteTime": {
     "end_time": "2024-07-01T13:37:56.566597Z",
     "start_time": "2024-07-01T13:37:54.548101Z"
    }
   },
   "cell_type": "code",
   "source": [
    "hist_dict = {}\n",
    "stoks = ['MSFT','AAPL', 'GOOG', 'NVDA', 'TSLA']\n",
    "for s in stoks:\n",
    "    tkr = yf.Ticker(s)\n",
    "    history = tkr.history(period='5y')\n",
    "    hist_dict[s] = history"
   ],
   "id": "d39b79fb5df232a9",
   "outputs": [],
   "execution_count": 10
  },
  {
   "metadata": {
    "ExecuteTime": {
     "end_time": "2024-07-01T13:45:58.204960Z",
     "start_time": "2024-07-01T13:45:58.007120Z"
    }
   },
   "cell_type": "code",
   "source": [
    "app = create_plot(hist_dict)\n",
    "app.run()"
   ],
   "id": "a383c6e2b0500df2",
   "outputs": [
    {
     "data": {
      "text/plain": [
       "<IPython.lib.display.IFrame at 0x7c12e5e65690>"
      ],
      "text/html": [
       "\n",
       "        <iframe\n",
       "            width=\"100%\"\n",
       "            height=\"650\"\n",
       "            src=\"http://127.0.0.1:8050/\"\n",
       "            frameborder=\"0\"\n",
       "            allowfullscreen\n",
       "            \n",
       "        ></iframe>\n",
       "        "
      ]
     },
     "metadata": {},
     "output_type": "display_data"
    }
   ],
   "execution_count": 29
  },
  {
   "metadata": {},
   "cell_type": "markdown",
   "source": "# Data Scraping",
   "id": "74fdf6d9d2aea26d"
  },
  {
   "metadata": {
    "ExecuteTime": {
     "end_time": "2024-07-01T13:40:24.533546Z",
     "start_time": "2024-07-01T13:40:24.468879Z"
    }
   },
   "cell_type": "code",
   "source": "",
   "id": "9ae158c4c2bc870a",
   "outputs": [
    {
     "data": {
      "text/plain": [
       "                                 Open         Low\n",
       "Date                                             \n",
       "2019-07-01 00:00:00-04:00   49.019693   48.411681\n",
       "2019-07-02 00:00:00-04:00   48.595045   48.582980\n",
       "2019-07-03 00:00:00-04:00   49.046241   48.903890\n",
       "2019-07-05 00:00:00-04:00   49.063129   48.954553\n",
       "2019-07-08 00:00:00-04:00   48.450294   47.871238\n",
       "...                               ...         ...\n",
       "2024-06-25 00:00:00-04:00  209.149994  208.610001\n",
       "2024-06-26 00:00:00-04:00  211.500000  210.639999\n",
       "2024-06-27 00:00:00-04:00  214.690002  212.350006\n",
       "2024-06-28 00:00:00-04:00  215.770004  210.300003\n",
       "2024-07-01 00:00:00-04:00  212.130005  211.919998\n",
       "\n",
       "[1259 rows x 2 columns]"
      ],
      "text/html": [
       "<div>\n",
       "<style scoped>\n",
       "    .dataframe tbody tr th:only-of-type {\n",
       "        vertical-align: middle;\n",
       "    }\n",
       "\n",
       "    .dataframe tbody tr th {\n",
       "        vertical-align: top;\n",
       "    }\n",
       "\n",
       "    .dataframe thead th {\n",
       "        text-align: right;\n",
       "    }\n",
       "</style>\n",
       "<table border=\"1\" class=\"dataframe\">\n",
       "  <thead>\n",
       "    <tr style=\"text-align: right;\">\n",
       "      <th></th>\n",
       "      <th>Open</th>\n",
       "      <th>Low</th>\n",
       "    </tr>\n",
       "    <tr>\n",
       "      <th>Date</th>\n",
       "      <th></th>\n",
       "      <th></th>\n",
       "    </tr>\n",
       "  </thead>\n",
       "  <tbody>\n",
       "    <tr>\n",
       "      <th>2019-07-01 00:00:00-04:00</th>\n",
       "      <td>49.019693</td>\n",
       "      <td>48.411681</td>\n",
       "    </tr>\n",
       "    <tr>\n",
       "      <th>2019-07-02 00:00:00-04:00</th>\n",
       "      <td>48.595045</td>\n",
       "      <td>48.582980</td>\n",
       "    </tr>\n",
       "    <tr>\n",
       "      <th>2019-07-03 00:00:00-04:00</th>\n",
       "      <td>49.046241</td>\n",
       "      <td>48.903890</td>\n",
       "    </tr>\n",
       "    <tr>\n",
       "      <th>2019-07-05 00:00:00-04:00</th>\n",
       "      <td>49.063129</td>\n",
       "      <td>48.954553</td>\n",
       "    </tr>\n",
       "    <tr>\n",
       "      <th>2019-07-08 00:00:00-04:00</th>\n",
       "      <td>48.450294</td>\n",
       "      <td>47.871238</td>\n",
       "    </tr>\n",
       "    <tr>\n",
       "      <th>...</th>\n",
       "      <td>...</td>\n",
       "      <td>...</td>\n",
       "    </tr>\n",
       "    <tr>\n",
       "      <th>2024-06-25 00:00:00-04:00</th>\n",
       "      <td>209.149994</td>\n",
       "      <td>208.610001</td>\n",
       "    </tr>\n",
       "    <tr>\n",
       "      <th>2024-06-26 00:00:00-04:00</th>\n",
       "      <td>211.500000</td>\n",
       "      <td>210.639999</td>\n",
       "    </tr>\n",
       "    <tr>\n",
       "      <th>2024-06-27 00:00:00-04:00</th>\n",
       "      <td>214.690002</td>\n",
       "      <td>212.350006</td>\n",
       "    </tr>\n",
       "    <tr>\n",
       "      <th>2024-06-28 00:00:00-04:00</th>\n",
       "      <td>215.770004</td>\n",
       "      <td>210.300003</td>\n",
       "    </tr>\n",
       "    <tr>\n",
       "      <th>2024-07-01 00:00:00-04:00</th>\n",
       "      <td>212.130005</td>\n",
       "      <td>211.919998</td>\n",
       "    </tr>\n",
       "  </tbody>\n",
       "</table>\n",
       "<p>1259 rows × 2 columns</p>\n",
       "</div>"
      ]
     },
     "execution_count": 21,
     "metadata": {},
     "output_type": "execute_result"
    }
   ],
   "execution_count": 21
  }
 ],
 "metadata": {
  "kernelspec": {
   "display_name": "Python 3",
   "language": "python",
   "name": "python3"
  },
  "language_info": {
   "codemirror_mode": {
    "name": "ipython",
    "version": 2
   },
   "file_extension": ".py",
   "mimetype": "text/x-python",
   "name": "python",
   "nbconvert_exporter": "python",
   "pygments_lexer": "ipython2",
   "version": "2.7.6"
  }
 },
 "nbformat": 4,
 "nbformat_minor": 5
}
