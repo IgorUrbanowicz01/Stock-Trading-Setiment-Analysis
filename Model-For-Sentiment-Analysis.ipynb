{
 "cells": [
  {
   "metadata": {},
   "cell_type": "markdown",
   "source": "# Sentiment Analysis ",
   "id": "71f1c6f1f3fc671f"
  },
  {
   "metadata": {
    "ExecuteTime": {
     "end_time": "2024-08-12T16:36:23.601649Z",
     "start_time": "2024-08-12T16:36:23.281836Z"
    }
   },
   "cell_type": "code",
   "source": [
    "%load_ext autoreload\n",
    "%autoreload 2"
   ],
   "id": "141b940e5367d242",
   "outputs": [
    {
     "name": "stdout",
     "output_type": "stream",
     "text": [
      "The autoreload extension is already loaded. To reload it, use:\n",
      "  %reload_ext autoreload\n"
     ]
    }
   ],
   "execution_count": 13
  },
  {
   "metadata": {
    "ExecuteTime": {
     "end_time": "2024-08-12T16:36:24.857709Z",
     "start_time": "2024-08-12T16:36:24.308445Z"
    }
   },
   "cell_type": "code",
   "source": "  %reload_ext autoreload",
   "id": "c05a632cbcdaa4c",
   "outputs": [],
   "execution_count": 14
  },
  {
   "metadata": {
    "ExecuteTime": {
     "end_time": "2024-08-12T16:36:27.858802Z",
     "start_time": "2024-08-12T16:36:27.432574Z"
    }
   },
   "cell_type": "code",
   "source": [
    "import pandas as pd\n",
    "from scrape_finviz import scrape_finviz\n",
    "import yfinance as yf\n",
    "from plot import create_plot\n",
    "import time\n"
   ],
   "id": "793774dc4fc6a55c",
   "outputs": [],
   "execution_count": 15
  },
  {
   "metadata": {
    "ExecuteTime": {
     "end_time": "2024-08-12T16:36:34.631280Z",
     "start_time": "2024-08-12T16:36:31.209187Z"
    }
   },
   "cell_type": "code",
   "source": [
    "hist_dict = {}\n",
    "stoks = ['MSFT','AAPL', 'GOOG', 'NVDA', 'TSLA']\n",
    "for s in stoks:\n",
    "    tkr = yf.Ticker(s)\n",
    "    history = tkr.history(period='5y')\n",
    "    hist_dict[s] = history"
   ],
   "id": "d39b79fb5df232a9",
   "outputs": [],
   "execution_count": 16
  },
  {
   "metadata": {
    "ExecuteTime": {
     "end_time": "2024-08-12T16:36:35.520688Z",
     "start_time": "2024-08-12T16:36:34.646062Z"
    }
   },
   "cell_type": "code",
   "source": [
    "app = create_plot(hist_dict)\n",
    "app.run()\n",
    "#http://127.0.0.1:8050/"
   ],
   "id": "a383c6e2b0500df2",
   "outputs": [
    {
     "data": {
      "text/plain": [
       "<IPython.lib.display.IFrame at 0x70020ef706d0>"
      ],
      "text/html": [
       "\n",
       "        <iframe\n",
       "            width=\"100%\"\n",
       "            height=\"650\"\n",
       "            src=\"http://127.0.0.1:8050/\"\n",
       "            frameborder=\"0\"\n",
       "            allowfullscreen\n",
       "            \n",
       "        ></iframe>\n",
       "        "
      ]
     },
     "metadata": {},
     "output_type": "display_data"
    }
   ],
   "execution_count": 17
  },
  {
   "metadata": {},
   "cell_type": "markdown",
   "source": "# Gathering Data with News Api's",
   "id": "74fdf6d9d2aea26d"
  },
  {
   "metadata": {
    "ExecuteTime": {
     "end_time": "2024-08-12T16:36:50.747325Z",
     "start_time": "2024-08-12T16:36:36.605619Z"
    }
   },
   "cell_type": "code",
   "source": [
    "for key in hist_dict.keys():\n",
    "    scrape_finviz(key)\n",
    "    time.sleep(1)"
   ],
   "id": "9ae158c4c2bc870a",
   "outputs": [],
   "execution_count": 18
  },
  {
   "metadata": {
    "ExecuteTime": {
     "end_time": "2024-08-12T16:36:50.788542Z",
     "start_time": "2024-08-12T16:36:50.762924Z"
    }
   },
   "cell_type": "code",
   "source": "",
   "id": "946c64eed8dbf11c",
   "outputs": [],
   "execution_count": 18
  }
 ],
 "metadata": {
  "kernelspec": {
   "display_name": "Python 3",
   "language": "python",
   "name": "python3"
  },
  "language_info": {
   "codemirror_mode": {
    "name": "ipython",
    "version": 2
   },
   "file_extension": ".py",
   "mimetype": "text/x-python",
   "name": "python",
   "nbconvert_exporter": "python",
   "pygments_lexer": "ipython2",
   "version": "2.7.6"
  }
 },
 "nbformat": 4,
 "nbformat_minor": 5
}
