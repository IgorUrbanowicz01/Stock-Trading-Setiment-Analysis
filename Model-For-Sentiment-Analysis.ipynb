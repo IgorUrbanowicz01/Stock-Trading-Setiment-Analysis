{
 "cells": [
  {
   "metadata": {},
   "cell_type": "markdown",
   "source": "# Sentiment Analysis ",
   "id": "71f1c6f1f3fc671f"
  },
  {
   "metadata": {
    "ExecuteTime": {
     "end_time": "2024-08-08T15:29:39.000074Z",
     "start_time": "2024-08-08T15:29:38.811884Z"
    }
   },
   "cell_type": "code",
   "source": [
    "%load_ext autoreload\n",
    "%autoreload 2"
   ],
   "id": "141b940e5367d242",
   "outputs": [],
   "execution_count": 1
  },
  {
   "metadata": {
    "ExecuteTime": {
     "end_time": "2024-08-08T15:29:46.064396Z",
     "start_time": "2024-08-08T15:29:45.866790Z"
    }
   },
   "cell_type": "code",
   "source": "  %reload_ext autoreload",
   "id": "c05a632cbcdaa4c",
   "outputs": [],
   "execution_count": 2
  },
  {
   "metadata": {
    "ExecuteTime": {
     "end_time": "2024-08-08T15:29:57.126142Z",
     "start_time": "2024-08-08T15:29:48.458014Z"
    }
   },
   "cell_type": "code",
   "source": [
    "import pandas as pd\n",
    "from scrape_finviz import scrape_finviz\n",
    "import yfinance as yf\n",
    "from plot import create_plot\n",
    "import time\n"
   ],
   "id": "793774dc4fc6a55c",
   "outputs": [],
   "execution_count": 3
  },
  {
   "metadata": {
    "ExecuteTime": {
     "end_time": "2024-08-08T15:30:01.263434Z",
     "start_time": "2024-08-08T15:29:57.141440Z"
    }
   },
   "cell_type": "code",
   "source": [
    "hist_dict = {}\n",
    "stoks = ['MSFT','AAPL', 'GOOG', 'NVDA', 'TSLA']\n",
    "for s in stoks:\n",
    "    tkr = yf.Ticker(s)\n",
    "    history = tkr.history(period='5y')\n",
    "    hist_dict[s] = history"
   ],
   "id": "d39b79fb5df232a9",
   "outputs": [],
   "execution_count": 4
  },
  {
   "metadata": {
    "ExecuteTime": {
     "end_time": "2024-08-08T15:30:03.154914Z",
     "start_time": "2024-08-08T15:30:01.279132Z"
    }
   },
   "cell_type": "code",
   "source": [
    "app = create_plot(hist_dict)\n",
    "app.run()\n",
    "#http://127.0.0.1:8050/"
   ],
   "id": "a383c6e2b0500df2",
   "outputs": [
    {
     "data": {
      "text/plain": [
       "<IPython.lib.display.IFrame at 0x70021c1462d0>"
      ],
      "text/html": [
       "\n",
       "        <iframe\n",
       "            width=\"100%\"\n",
       "            height=\"650\"\n",
       "            src=\"http://127.0.0.1:8050/\"\n",
       "            frameborder=\"0\"\n",
       "            allowfullscreen\n",
       "            \n",
       "        ></iframe>\n",
       "        "
      ]
     },
     "metadata": {},
     "output_type": "display_data"
    }
   ],
   "execution_count": 5
  },
  {
   "metadata": {},
   "cell_type": "markdown",
   "source": "# Gathering Data with News Api's",
   "id": "74fdf6d9d2aea26d"
  },
  {
   "metadata": {
    "ExecuteTime": {
     "end_time": "2024-08-08T15:30:17.852454Z",
     "start_time": "2024-08-08T15:30:03.461134Z"
    }
   },
   "cell_type": "code",
   "source": [
    "for key in hist_dict.keys():\n",
    "    scrape_finviz(key)\n",
    "    time.sleep(1)"
   ],
   "id": "9ae158c4c2bc870a",
   "outputs": [],
   "execution_count": 6
  },
  {
   "metadata": {
    "ExecuteTime": {
     "end_time": "2024-08-08T15:30:17.907828Z",
     "start_time": "2024-08-08T15:30:17.877330Z"
    }
   },
   "cell_type": "code",
   "source": "",
   "id": "946c64eed8dbf11c",
   "outputs": [],
   "execution_count": 6
  }
 ],
 "metadata": {
  "kernelspec": {
   "display_name": "Python 3",
   "language": "python",
   "name": "python3"
  },
  "language_info": {
   "codemirror_mode": {
    "name": "ipython",
    "version": 2
   },
   "file_extension": ".py",
   "mimetype": "text/x-python",
   "name": "python",
   "nbconvert_exporter": "python",
   "pygments_lexer": "ipython2",
   "version": "2.7.6"
  }
 },
 "nbformat": 4,
 "nbformat_minor": 5
}
