{
 "cells": [
  {
   "metadata": {},
   "cell_type": "markdown",
   "source": "# Sentiment Analysis ",
   "id": "71f1c6f1f3fc671f"
  },
  {
   "metadata": {
    "ExecuteTime": {
     "end_time": "2024-08-18T15:38:40.264980Z",
     "start_time": "2024-08-18T15:38:40.242291Z"
    }
   },
   "cell_type": "code",
   "source": [
    "%load_ext autoreload\n",
    "%autoreload 2"
   ],
   "id": "141b940e5367d242",
   "outputs": [
    {
     "name": "stdout",
     "output_type": "stream",
     "text": [
      "The autoreload extension is already loaded. To reload it, use:\n",
      "  %reload_ext autoreload\n"
     ]
    }
   ],
   "execution_count": 7
  },
  {
   "metadata": {
    "ExecuteTime": {
     "end_time": "2024-08-18T15:38:40.527893Z",
     "start_time": "2024-08-18T15:38:40.427104Z"
    }
   },
   "cell_type": "code",
   "source": "  %reload_ext autoreload",
   "id": "c05a632cbcdaa4c",
   "outputs": [],
   "execution_count": 8
  },
  {
   "metadata": {
    "ExecuteTime": {
     "end_time": "2024-08-18T15:38:40.588567Z",
     "start_time": "2024-08-18T15:38:40.551661Z"
    }
   },
   "cell_type": "code",
   "source": [
    "import pandas as pd\n",
    "from scrape_finviz import scrape_finviz\n",
    "import yfinance as yf\n",
    "from plot import create_plot\n",
    "import time\n"
   ],
   "id": "793774dc4fc6a55c",
   "outputs": [],
   "execution_count": 9
  },
  {
   "metadata": {
    "ExecuteTime": {
     "end_time": "2024-08-18T15:38:41.732605Z",
     "start_time": "2024-08-18T15:38:40.632732Z"
    }
   },
   "cell_type": "code",
   "source": [
    "hist_dict = {}\n",
    "stoks = ['MSFT','AAPL', 'GOOG', 'NVDA', 'TSLA']\n",
    "for s in stoks:\n",
    "    tkr = yf.Ticker(s)\n",
    "    history = tkr.history(period='5y')\n",
    "    hist_dict[s] = history"
   ],
   "id": "d39b79fb5df232a9",
   "outputs": [],
   "execution_count": 10
  },
  {
   "metadata": {
    "ExecuteTime": {
     "end_time": "2024-08-18T15:38:42.041042Z",
     "start_time": "2024-08-18T15:38:41.741861Z"
    }
   },
   "cell_type": "code",
   "source": [
    "app = create_plot(hist_dict)\n",
    "app.run()\n",
    "#http://127.0.0.1:8050/"
   ],
   "id": "a383c6e2b0500df2",
   "outputs": [
    {
     "data": {
      "text/plain": [
       "<IPython.lib.display.IFrame at 0x7dfd6d73c850>"
      ],
      "text/html": [
       "\n",
       "        <iframe\n",
       "            width=\"100%\"\n",
       "            height=\"650\"\n",
       "            src=\"http://127.0.0.1:8050/\"\n",
       "            frameborder=\"0\"\n",
       "            allowfullscreen\n",
       "            \n",
       "        ></iframe>\n",
       "        "
      ]
     },
     "metadata": {},
     "output_type": "display_data"
    }
   ],
   "execution_count": 11
  },
  {
   "metadata": {},
   "cell_type": "markdown",
   "source": "# Gathering Data with News Api's",
   "id": "74fdf6d9d2aea26d"
  },
  {
   "metadata": {
    "ExecuteTime": {
     "end_time": "2024-08-18T15:38:50.446949Z",
     "start_time": "2024-08-18T15:38:42.104821Z"
    }
   },
   "cell_type": "code",
   "source": [
    "for key in hist_dict.keys():\n",
    "    scrape_finviz(key)\n",
    "    time.sleep(1)"
   ],
   "id": "9ae158c4c2bc870a",
   "outputs": [],
   "execution_count": 12
  },
  {
   "metadata": {
    "ExecuteTime": {
     "end_time": "2024-08-18T15:38:50.457377Z",
     "start_time": "2024-08-18T15:38:50.453952Z"
    }
   },
   "cell_type": "code",
   "source": "",
   "id": "946c64eed8dbf11c",
   "outputs": [],
   "execution_count": null
  }
 ],
 "metadata": {
  "kernelspec": {
   "display_name": "Python 3",
   "language": "python",
   "name": "python3"
  },
  "language_info": {
   "codemirror_mode": {
    "name": "ipython",
    "version": 2
   },
   "file_extension": ".py",
   "mimetype": "text/x-python",
   "name": "python",
   "nbconvert_exporter": "python",
   "pygments_lexer": "ipython2",
   "version": "2.7.6"
  }
 },
 "nbformat": 4,
 "nbformat_minor": 5
}
